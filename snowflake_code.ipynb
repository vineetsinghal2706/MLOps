{
 "cells": [
  {
   "cell_type": "code",
   "execution_count": 0,
   "metadata": {
    "application/vnd.databricks.v1+cell": {
     "cellMetadata": {
      "byteLimit": 2048000,
      "rowLimit": 10000
     },
     "inputWidgets": {},
     "nuid": "dae1d75c-48a5-407e-b8c9-161ea63c5b93",
     "showTitle": false,
     "tableResultSettingsMap": {},
     "title": ""
    }
   },
   "outputs": [],
   "source": [
    "# Installing snowflake connector\n",
    "!pip install snowflake\n",
    "\n",
    "sfOptions = {\n",
    "    \"sfURL\" : \"https://qjdxsxc-py41131.snowflakecomputing.com/\",  # Your Snowflake account URL\n",
    "    \"sfDatabase\" : \"my_new_database\",               # Your Snowflake database\n",
    "    \"sfSchema\" : \"my_new_schema\",                   # Your Snowflake schema\n",
    "    \"sfWarehouse\" : \"my_new_warehouse\",             # Your Snowflake warehouse\n",
    "    \"sfRole\" : \"\",                       # (Optional) Your Snowflake role\n",
    "    \"sfUser\" : \"vineetsinghal27\",                  # Your Snowflake username\n",
    "    \"sfPassword\" : \"Nageshwar@2025\"              # Your Snowflake password\n",
    "}\n",
    "\n",
    "# Read data from Snowflake into a DataFrame\n",
    "df = spark.read.format(\"snowflake\").options(**sfOptions).option(\"dbtable\", \"customer\").load()\n",
    "\n",
    "# Display the DataFrame\n",
    "df.show()"
   ]
  }
 ],
 "metadata": {
  "application/vnd.databricks.v1+notebook": {
   "computePreferences": null,
   "dashboards": [],
   "environmentMetadata": {
    "base_environment": "",
    "environment_version": "3"
   },
   "inputWidgetPreferences": null,
   "language": "python",
   "notebookMetadata": {
    "pythonIndentUnit": 4
   },
   "notebookName": "snowflake_code",
   "widgets": {}
  },
  "language_info": {
   "name": "python"
  }
 },
 "nbformat": 4,
 "nbformat_minor": 0
}
